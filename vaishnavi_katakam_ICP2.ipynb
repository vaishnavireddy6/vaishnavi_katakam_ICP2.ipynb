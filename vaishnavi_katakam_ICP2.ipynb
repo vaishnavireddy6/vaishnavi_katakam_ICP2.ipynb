{
  "cells": [
    {
      "cell_type": "code",
      "execution_count": null,
      "metadata": {
        "id": "Ne9sNQzHkxsh"
      },
      "outputs": [],
      "source": []
    },
    {
      "cell_type": "code",
      "execution_count": 1,
      "metadata": {
        "colab": {
          "base_uri": "https://localhost:8080/"
        },
        "id": "D8teMCCKlNCs",
        "outputId": "800d5a01-83a5-4869-e5ee-4046c6a07e10"
      },
      "outputs": [
        {
          "output_type": "stream",
          "name": "stdout",
          "text": [
            "Enter your first name\n",
            "vaishnavi\n",
            "Enter your last name\n",
            "katakam\n",
            "your full name is\n",
            "vaishnavi katakam\n"
          ]
        }
      ],
      "source": [
        "print(\"Enter your first name\")\n",
        "first_name = str(input())\n",
        "print(\"Enter your last name\")\n",
        "last_name = str(input())\n",
        "print(\"your full name is\")\n",
        "full_name = first_name + \" \" + last_name\n",
        "print(full_name)"
      ]
    },
    {
      "cell_type": "code",
      "execution_count": 2,
      "metadata": {
        "colab": {
          "base_uri": "https://localhost:8080/"
        },
        "id": "syXUp4hbuK2l",
        "outputId": "29c914c9-aad6-4648-eb18-c9b36744778c"
      },
      "outputs": [
        {
          "output_type": "stream",
          "name": "stdout",
          "text": [
            "Go vnn\n"
          ]
        }
      ],
      "source": [
        "def string_alternative(x):\n",
        "  return x[::]\n",
        "\n",
        "mytxt = string_alternative(\"Good evening\")\n",
        "\n",
        "print(mytxt[::2])"
      ]
    },
    {
      "cell_type": "code",
      "execution_count": 6,
      "metadata": {
        "colab": {
          "base_uri": "https://localhost:8080/"
        },
        "id": "yybDqke45kLf",
        "outputId": "da9f0f36-9c61-448d-a316-c7388ac82fff"
      },
      "outputs": [
        {
          "output_type": "stream",
          "name": "stdout",
          "text": [
            "Enter number of elements : 3\n",
            "60\n",
            "28\n",
            "80\n",
            "[60, 28, 80]\n",
            "[152.4, 71.12, 203.2]\n"
          ]
        }
      ],
      "source": [
        "# creating an empty list\n",
        "import numpy as np\n",
        "mylst = []\n",
        "\n",
        "# number of elements as input\n",
        "n = int(input(\"Enter number of elements : \"))\n",
        "\n",
        "# iterating till the range\n",
        "for i in range(0, n):\n",
        "    ele = int(input())\n",
        "\n",
        "    mylst.append(ele) # adding the element\n",
        "\n",
        "print(mylst)\n",
        "lyst = mylst\n",
        "result = 2.54\n",
        "for x in lyst:\n",
        " h_cm = np.array(lyst) * result\n",
        " new_list = list(h_cm)\n",
        "print(new_list)"
      ]
    },
    {
      "cell_type": "code",
      "execution_count": 9,
      "metadata": {
        "colab": {
          "base_uri": "https://localhost:8080/"
        },
        "id": "UjYAwy_ql9uc",
        "outputId": "85971429-88a4-48d8-bbb8-0133b356e0d7"
      },
      "outputs": [
        {
          "output_type": "stream",
          "name": "stdout",
          "text": [
            "{'Python': 2, 'Course': 4, 'Deep': 2, 'Learning': 2, 'count': 1, ':': 1, '1': 5}\n"
          ]
        }
      ],
      "source": [
        "def word_count(str):\n",
        "    counts = dict()\n",
        "    words = str.split()\n",
        "\n",
        "    for word in words:\n",
        "        if word in counts:\n",
        "            counts[word] += 1\n",
        "        else:\n",
        "            counts[word] = 1\n",
        "\n",
        "    return counts\n",
        "with open('sample.txt', 'r') as file1:\n",
        "  FileContent = file1.read()\n",
        "  print(word_count(FileContent))\n",
        ""
      ]
    }
  ],
  "metadata": {
    "colab": {
      "provenance": []
    },
    "kernelspec": {
      "display_name": "Python 3 (ipykernel)",
      "language": "python",
      "name": "python3"
    },
    "language_info": {
      "codemirror_mode": {
        "name": "ipython",
        "version": 3
      },
      "file_extension": ".py",
      "mimetype": "text/x-python",
      "name": "python",
      "nbconvert_exporter": "python",
      "pygments_lexer": "ipython3",
      "version": "3.9.13"
    }
  },
  "nbformat": 4,
  "nbformat_minor": 0
}